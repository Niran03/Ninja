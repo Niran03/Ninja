{
 "cells": [
  {
   "cell_type": "code",
   "execution_count": 2,
   "id": "8da9ba3c",
   "metadata": {},
   "outputs": [],
   "source": [
    " ## 1. How do we create numerical variables in python?"
   ]
  },
  {
   "cell_type": "code",
   "execution_count": 4,
   "id": "2a9d449f",
   "metadata": {},
   "outputs": [],
   "source": [
    "pi=3.14159\n",
    "diameter=3"
   ]
  },
  {
   "cell_type": "code",
   "execution_count": 5,
   "id": "98c343ec",
   "metadata": {},
   "outputs": [
    {
     "data": {
      "text/plain": [
       "float"
      ]
     },
     "execution_count": 5,
     "metadata": {},
     "output_type": "execute_result"
    }
   ],
   "source": [
    "type(pi)"
   ]
  },
  {
   "cell_type": "code",
   "execution_count": 6,
   "id": "a5baa1c3",
   "metadata": {},
   "outputs": [
    {
     "data": {
      "text/plain": [
       "int"
      ]
     },
     "execution_count": 6,
     "metadata": {},
     "output_type": "execute_result"
    }
   ],
   "source": [
    "type(diameter)"
   ]
  },
  {
   "cell_type": "code",
   "execution_count": 7,
   "id": "43821559",
   "metadata": {},
   "outputs": [],
   "source": [
    "## 2. How do we perform calculations in python?"
   ]
  },
  {
   "cell_type": "code",
   "execution_count": 14,
   "id": "b843e3fe",
   "metadata": {},
   "outputs": [
    {
     "name": "stdout",
     "output_type": "stream",
     "text": [
      "enter a number: 15\n",
      "7.5\n"
     ]
    }
   ],
   "source": [
    "n=int(input('enter a number: '))\n",
    "a=n/2\n",
    "print(a)"
   ]
  },
  {
   "cell_type": "code",
   "execution_count": 10,
   "id": "3900d495",
   "metadata": {},
   "outputs": [],
   "source": [
    "def radius(a):\n",
    "    radius=a/2\n",
    "    print(radius)"
   ]
  },
  {
   "cell_type": "code",
   "execution_count": 18,
   "id": "0d9e6212",
   "metadata": {},
   "outputs": [
    {
     "name": "stdout",
     "output_type": "stream",
     "text": [
      "5.0\n"
     ]
    }
   ],
   "source": [
    "radius(10)"
   ]
  },
  {
   "cell_type": "code",
   "execution_count": 19,
   "id": "b34b11d6",
   "metadata": {},
   "outputs": [],
   "source": [
    "def area(n):\n",
    "    pi=22/7\n",
    "    area=pi*n*n\n",
    "    print(area)"
   ]
  },
  {
   "cell_type": "code",
   "execution_count": 22,
   "id": "f2235905",
   "metadata": {},
   "outputs": [
    {
     "name": "stdout",
     "output_type": "stream",
     "text": [
      "12.571428571428571\n"
     ]
    }
   ],
   "source": [
    "area(2)"
   ]
  },
  {
   "cell_type": "code",
   "execution_count": 23,
   "id": "a75a1287",
   "metadata": {},
   "outputs": [],
   "source": [
    "## 3. Give an example of BODMAS in python?"
   ]
  },
  {
   "cell_type": "code",
   "execution_count": 25,
   "id": "66d3d324",
   "metadata": {},
   "outputs": [],
   "source": [
    "def niru(a,b,c):\n",
    "            d=(a-b)*c-(a+b)\n",
    "            print(d)\n",
    "            "
   ]
  },
  {
   "cell_type": "code",
   "execution_count": 26,
   "id": "e56a5a6c",
   "metadata": {},
   "outputs": [
    {
     "name": "stdout",
     "output_type": "stream",
     "text": [
      "3\n"
     ]
    }
   ],
   "source": [
    "niru(3,2,8)"
   ]
  },
  {
   "cell_type": "code",
   "execution_count": 38,
   "id": "0e1abaab",
   "metadata": {},
   "outputs": [
    {
     "name": "stdout",
     "output_type": "stream",
     "text": [
      "Enter multiple value: 2 3 4 5 \n"
     ]
    }
   ],
   "source": [
    "##4. Give examples of list?\n",
    "x = [int(x) for x in input(\"Enter multiple value: \").split()]\n",
    "\n"
   ]
  },
  {
   "cell_type": "code",
   "execution_count": 39,
   "id": "f812ed6e",
   "metadata": {},
   "outputs": [
    {
     "data": {
      "text/plain": [
       "[2, 3, 4, 5]"
      ]
     },
     "execution_count": 39,
     "metadata": {},
     "output_type": "execute_result"
    }
   ],
   "source": [
    "x"
   ]
  },
  {
   "cell_type": "code",
   "execution_count": 40,
   "id": "69cbca02",
   "metadata": {},
   "outputs": [
    {
     "data": {
      "text/plain": [
       "4"
      ]
     },
     "execution_count": 40,
     "metadata": {},
     "output_type": "execute_result"
    }
   ],
   "source": [
    "len(x)"
   ]
  },
  {
   "cell_type": "code",
   "execution_count": 41,
   "id": "3e85cdf8",
   "metadata": {},
   "outputs": [],
   "source": [
    "p=[1,[6,7,8],10]"
   ]
  },
  {
   "cell_type": "code",
   "execution_count": 42,
   "id": "7f57cb41",
   "metadata": {},
   "outputs": [
    {
     "data": {
      "text/plain": [
       "3"
      ]
     },
     "execution_count": 42,
     "metadata": {},
     "output_type": "execute_result"
    }
   ],
   "source": [
    "len(p)"
   ]
  },
  {
   "cell_type": "code",
   "execution_count": 43,
   "id": "66f96144",
   "metadata": {},
   "outputs": [],
   "source": [
    "a=[]"
   ]
  },
  {
   "cell_type": "code",
   "execution_count": 44,
   "id": "46cc6c04",
   "metadata": {},
   "outputs": [
    {
     "data": {
      "text/plain": [
       "0"
      ]
     },
     "execution_count": 44,
     "metadata": {},
     "output_type": "execute_result"
    }
   ],
   "source": [
    "len(a)"
   ]
  },
  {
   "cell_type": "code",
   "execution_count": 46,
   "id": "90d37eef",
   "metadata": {},
   "outputs": [],
   "source": [
    "d = [1, 2, 3][1:]\n"
   ]
  },
  {
   "cell_type": "code",
   "execution_count": 47,
   "id": "e0ab1233",
   "metadata": {},
   "outputs": [
    {
     "data": {
      "text/plain": [
       "2"
      ]
     },
     "execution_count": 47,
     "metadata": {},
     "output_type": "execute_result"
    }
   ],
   "source": [
    "len(d)"
   ]
  },
  {
   "cell_type": "code",
   "execution_count": 48,
   "id": "25086249",
   "metadata": {},
   "outputs": [],
   "source": [
    "##5. How do we interchange the values of two lists?\n",
    "\n",
    "a = [1, 2, 3]\n",
    "b = [3, 2, 1]\n",
    "a,b=b,a\n"
   ]
  },
  {
   "cell_type": "code",
   "execution_count": 49,
   "id": "2349d4bb",
   "metadata": {},
   "outputs": [
    {
     "name": "stdout",
     "output_type": "stream",
     "text": [
      "[3, 2, 1] [1, 2, 3]\n"
     ]
    }
   ],
   "source": [
    "print(a,b)"
   ]
  },
  {
   "cell_type": "code",
   "execution_count": 50,
   "id": "a6ff6353",
   "metadata": {},
   "outputs": [],
   "source": [
    "##6. How do we extract values from list?\n",
    "\n",
    "camera=['nikon','sony','canon','fuji']"
   ]
  },
  {
   "cell_type": "code",
   "execution_count": 52,
   "id": "dfb5996b",
   "metadata": {},
   "outputs": [
    {
     "data": {
      "text/plain": [
       "'canon'"
      ]
     },
     "execution_count": 52,
     "metadata": {},
     "output_type": "execute_result"
    }
   ],
   "source": [
    "camera[2]"
   ]
  },
  {
   "cell_type": "code",
   "execution_count": 53,
   "id": "d8953d28",
   "metadata": {},
   "outputs": [
    {
     "data": {
      "text/plain": [
       "'canon'"
      ]
     },
     "execution_count": 53,
     "metadata": {},
     "output_type": "execute_result"
    }
   ],
   "source": [
    "camera[-2]"
   ]
  },
  {
   "cell_type": "code",
   "execution_count": 59,
   "id": "399c28d9",
   "metadata": {},
   "outputs": [],
   "source": [
    "##7. How we create loops in python using list?\n",
    "\n",
    "def greater_fun(a,b,c):\n",
    "    if a>b and a>c:\n",
    "        print(a,'is greatest')\n",
    "    elif b>a and b>c:\n",
    "        print(b,'is greatest')\n",
    "    else:\n",
    "        print(c,' is greatest')\n",
    "        "
   ]
  },
  {
   "cell_type": "code",
   "execution_count": 60,
   "id": "5235d221",
   "metadata": {},
   "outputs": [
    {
     "name": "stdout",
     "output_type": "stream",
     "text": [
      "10 is greatest\n"
     ]
    }
   ],
   "source": [
    "greater_fun(8,10,7)"
   ]
  },
  {
   "cell_type": "code",
   "execution_count": 75,
   "id": "7346a45d",
   "metadata": {},
   "outputs": [],
   "source": [
    "def elementwise_greater_than(L, thresh):\n",
    "    res = []\n",
    "    for ele in L:\n",
    "        if ele > thresh:\n",
    "            res.append(thresh)\n",
    "    return res"
   ]
  },
  {
   "cell_type": "code",
   "execution_count": 76,
   "id": "4fd37685",
   "metadata": {},
   "outputs": [
    {
     "data": {
      "text/plain": [
       "[2, 2]"
      ]
     },
     "execution_count": 76,
     "metadata": {},
     "output_type": "execute_result"
    }
   ],
   "source": [
    "elementwise_greater_than([1,2,3,4],2)"
   ]
  },
  {
   "cell_type": "code",
   "execution_count": 77,
   "id": "d0ff02a5",
   "metadata": {},
   "outputs": [],
   "source": [
    "def fun(l):\n",
    "    res=[]\n",
    "    for i in l:\n",
    "        if i>l :\n",
    "            res.append()\n",
    "    return res\n"
   ]
  },
  {
   "cell_type": "code",
   "execution_count": 82,
   "id": "75937d88",
   "metadata": {},
   "outputs": [],
   "source": [
    "a=[2,8,9,6,4]"
   ]
  },
  {
   "cell_type": "code",
   "execution_count": 83,
   "id": "d666567f",
   "metadata": {},
   "outputs": [
    {
     "data": {
      "text/plain": [
       "[2, 8, 9, 6, 4]"
      ]
     },
     "execution_count": 83,
     "metadata": {},
     "output_type": "execute_result"
    }
   ],
   "source": [
    "a"
   ]
  },
  {
   "cell_type": "code",
   "execution_count": 85,
   "id": "041ec82c",
   "metadata": {},
   "outputs": [],
   "source": [
    "a.sort()"
   ]
  },
  {
   "cell_type": "code",
   "execution_count": 86,
   "id": "a4667005",
   "metadata": {},
   "outputs": [
    {
     "data": {
      "text/plain": [
       "[2, 4, 6, 8, 9]"
      ]
     },
     "execution_count": 86,
     "metadata": {},
     "output_type": "execute_result"
    }
   ],
   "source": [
    "a"
   ]
  },
  {
   "cell_type": "code",
   "execution_count": 87,
   "id": "e6689b02",
   "metadata": {},
   "outputs": [
    {
     "data": {
      "text/plain": [
       "9"
      ]
     },
     "execution_count": 87,
     "metadata": {},
     "output_type": "execute_result"
    }
   ],
   "source": [
    "a[-1]"
   ]
  },
  {
   "cell_type": "code",
   "execution_count": null,
   "id": "9a1410fc",
   "metadata": {},
   "outputs": [],
   "source": [
    "## 8. Give examples of String?"
   ]
  },
  {
   "cell_type": "code",
   "execution_count": 1,
   "id": "991623ce",
   "metadata": {},
   "outputs": [],
   "source": [
    "a = 'Welcome to python'"
   ]
  },
  {
   "cell_type": "code",
   "execution_count": 2,
   "id": "d0b4c665",
   "metadata": {},
   "outputs": [
    {
     "data": {
      "text/plain": [
       "'Welcome to python'"
      ]
     },
     "execution_count": 2,
     "metadata": {},
     "output_type": "execute_result"
    }
   ],
   "source": [
    "a"
   ]
  },
  {
   "cell_type": "code",
   "execution_count": 6,
   "id": "fe653b38",
   "metadata": {},
   "outputs": [
    {
     "data": {
      "text/plain": [
       "17"
      ]
     },
     "execution_count": 6,
     "metadata": {},
     "output_type": "execute_result"
    }
   ],
   "source": [
    "len(a)"
   ]
  },
  {
   "cell_type": "code",
   "execution_count": null,
   "id": "069c6722",
   "metadata": {},
   "outputs": [],
   "source": [
    "## 9. Give an example of Boolean?"
   ]
  },
  {
   "cell_type": "code",
   "execution_count": 13,
   "id": "aec675c0",
   "metadata": {},
   "outputs": [
    {
     "name": "stdout",
     "output_type": "stream",
     "text": [
      "True\n"
     ]
    }
   ],
   "source": [
    "b=print((1!=0))"
   ]
  },
  {
   "cell_type": "code",
   "execution_count": 15,
   "id": "ce516de8",
   "metadata": {},
   "outputs": [],
   "source": [
    "## 11. What are function in python?"
   ]
  },
  {
   "cell_type": "code",
   "execution_count": 21,
   "id": "07e5ab97",
   "metadata": {},
   "outputs": [],
   "source": [
    "def round_num(c):\n",
    "    return round(c,2)"
   ]
  },
  {
   "cell_type": "code",
   "execution_count": 22,
   "id": "61955de5",
   "metadata": {},
   "outputs": [
    {
     "data": {
      "text/plain": [
       "10.88"
      ]
     },
     "execution_count": 22,
     "metadata": {},
     "output_type": "execute_result"
    }
   ],
   "source": [
    "round_num(10.87654)"
   ]
  },
  {
   "cell_type": "code",
   "execution_count": 23,
   "id": "db752906",
   "metadata": {},
   "outputs": [],
   "source": [
    "## 12. Calculating remainder in python?"
   ]
  },
  {
   "cell_type": "code",
   "execution_count": 26,
   "id": "fa76f8bc",
   "metadata": {},
   "outputs": [],
   "source": [
    "x=10//2"
   ]
  },
  {
   "cell_type": "code",
   "execution_count": 27,
   "id": "969755d5",
   "metadata": {},
   "outputs": [
    {
     "data": {
      "text/plain": [
       "5"
      ]
     },
     "execution_count": 27,
     "metadata": {},
     "output_type": "execute_result"
    }
   ],
   "source": [
    "x"
   ]
  },
  {
   "cell_type": "code",
   "execution_count": 28,
   "id": "aee1211e",
   "metadata": {},
   "outputs": [],
   "source": [
    "## 13. What is lambda in Python?"
   ]
  },
  {
   "cell_type": "code",
   "execution_count": 78,
   "id": "32160203",
   "metadata": {},
   "outputs": [
    {
     "data": {
      "text/plain": [
       "10"
      ]
     },
     "execution_count": 78,
     "metadata": {},
     "output_type": "execute_result"
    }
   ],
   "source": [
    "def doub(x):\n",
    "    return x*2\n",
    "doub(5)"
   ]
  },
  {
   "cell_type": "code",
   "execution_count": 11,
   "id": "df69bb51",
   "metadata": {},
   "outputs": [],
   "source": [
    "## 14.What is slicing?"
   ]
  },
  {
   "cell_type": "code",
   "execution_count": 16,
   "id": "2d6100cd",
   "metadata": {},
   "outputs": [],
   "source": [
    "a=[1,2,3,4,5]"
   ]
  },
  {
   "cell_type": "code",
   "execution_count": 17,
   "id": "b06ae9d3",
   "metadata": {},
   "outputs": [
    {
     "data": {
      "text/plain": [
       "[1, 2]"
      ]
     },
     "execution_count": 17,
     "metadata": {},
     "output_type": "execute_result"
    }
   ],
   "source": [
    "a[0:2]"
   ]
  },
  {
   "cell_type": "code",
   "execution_count": 18,
   "id": "4ab020df",
   "metadata": {},
   "outputs": [
    {
     "data": {
      "text/plain": [
       "4"
      ]
     },
     "execution_count": 18,
     "metadata": {},
     "output_type": "execute_result"
    }
   ],
   "source": [
    "a[-2]"
   ]
  },
  {
   "cell_type": "code",
   "execution_count": 19,
   "id": "e00645ef",
   "metadata": {},
   "outputs": [],
   "source": [
    "## 15.How you can convert a number to a string?"
   ]
  },
  {
   "cell_type": "code",
   "execution_count": 22,
   "id": "0f07982b",
   "metadata": {},
   "outputs": [],
   "source": [
    "c=1"
   ]
  },
  {
   "cell_type": "code",
   "execution_count": 23,
   "id": "fde01edf",
   "metadata": {},
   "outputs": [
    {
     "data": {
      "text/plain": [
       "int"
      ]
     },
     "execution_count": 23,
     "metadata": {},
     "output_type": "execute_result"
    }
   ],
   "source": [
    "type(c)"
   ]
  },
  {
   "cell_type": "code",
   "execution_count": 24,
   "id": "79a89b17",
   "metadata": {},
   "outputs": [
    {
     "data": {
      "text/plain": [
       "'1'"
      ]
     },
     "execution_count": 24,
     "metadata": {},
     "output_type": "execute_result"
    }
   ],
   "source": [
    "str(c)"
   ]
  },
  {
   "cell_type": "code",
   "execution_count": null,
   "id": "e11e22d6",
   "metadata": {},
   "outputs": [],
   "source": [
    "## 16. What is range function?"
   ]
  },
  {
   "cell_type": "code",
   "execution_count": 28,
   "id": "44fdc1cb",
   "metadata": {},
   "outputs": [
    {
     "name": "stdout",
     "output_type": "stream",
     "text": [
      "3\n",
      "4\n",
      "5\n"
     ]
    }
   ],
   "source": [
    "x=range(3,6)\n",
    "for n in x:\n",
    "    print(n)"
   ]
  },
  {
   "cell_type": "code",
   "execution_count": 29,
   "id": "a809938f",
   "metadata": {},
   "outputs": [],
   "source": [
    "## 17.How do you generate random numbers in Python?"
   ]
  },
  {
   "cell_type": "code",
   "execution_count": 30,
   "id": "22a27234",
   "metadata": {},
   "outputs": [],
   "source": [
    "import random"
   ]
  },
  {
   "cell_type": "code",
   "execution_count": 32,
   "id": "817f4481",
   "metadata": {},
   "outputs": [
    {
     "name": "stdout",
     "output_type": "stream",
     "text": [
      "3\n"
     ]
    }
   ],
   "source": [
    "print (random.randint(0,5))"
   ]
  },
  {
   "cell_type": "code",
   "execution_count": 33,
   "id": "0cd4bc0e",
   "metadata": {},
   "outputs": [],
   "source": [
    "## 18.What is the use of the split function in Python?"
   ]
  },
  {
   "cell_type": "code",
   "execution_count": 34,
   "id": "815ea95f",
   "metadata": {},
   "outputs": [],
   "source": [
    "n=\"Welcome to python\""
   ]
  },
  {
   "cell_type": "code",
   "execution_count": 36,
   "id": "7971e349",
   "metadata": {},
   "outputs": [
    {
     "data": {
      "text/plain": [
       "['Welcome', 'to', 'python']"
      ]
     },
     "execution_count": 36,
     "metadata": {},
     "output_type": "execute_result"
    }
   ],
   "source": [
    "n.split()"
   ]
  },
  {
   "cell_type": "code",
   "execution_count": 37,
   "id": "cc0fb536",
   "metadata": {},
   "outputs": [],
   "source": [
    "## 19.How would you convert a list to an array?"
   ]
  },
  {
   "cell_type": "code",
   "execution_count": 38,
   "id": "0e38bf01",
   "metadata": {},
   "outputs": [],
   "source": [
    "import numpy as np"
   ]
  },
  {
   "cell_type": "code",
   "execution_count": 47,
   "id": "8afc4535",
   "metadata": {},
   "outputs": [
    {
     "name": "stdout",
     "output_type": "stream",
     "text": [
      "[2 4 5 6 7]\n"
     ]
    }
   ],
   "source": [
    "a=[2,4,5,6,7]\n",
    "x=np.array(a)\n",
    "print(x)"
   ]
  },
  {
   "cell_type": "code",
   "execution_count": null,
   "id": "62871fc8",
   "metadata": {},
   "outputs": [],
   "source": [
    "## 20.What is dictionary comprehension in Python?"
   ]
  },
  {
   "cell_type": "code",
   "execution_count": 62,
   "id": "a0c8d532",
   "metadata": {},
   "outputs": [],
   "source": [
    "l={'a':1,'b':3,'c':4}"
   ]
  },
  {
   "cell_type": "code",
   "execution_count": 63,
   "id": "2f67133b",
   "metadata": {},
   "outputs": [
    {
     "data": {
      "text/plain": [
       "dict_items([('a', 1), ('b', 3), ('c', 4)])"
      ]
     },
     "execution_count": 63,
     "metadata": {},
     "output_type": "execute_result"
    }
   ],
   "source": [
    "l.items()"
   ]
  },
  {
   "cell_type": "code",
   "execution_count": 64,
   "id": "f1831b83",
   "metadata": {},
   "outputs": [],
   "source": [
    "## 21.How would you sort a dictionary in Python?"
   ]
  },
  {
   "cell_type": "code",
   "execution_count": 67,
   "id": "6e795568",
   "metadata": {},
   "outputs": [],
   "source": [
    "import operator"
   ]
  },
  {
   "cell_type": "code",
   "execution_count": 69,
   "id": "bbb9b818",
   "metadata": {},
   "outputs": [
    {
     "data": {
      "text/plain": [
       "['a', 'b', 'c']"
      ]
     },
     "execution_count": 69,
     "metadata": {},
     "output_type": "execute_result"
    }
   ],
   "source": [
    "sorted(l)"
   ]
  },
  {
   "cell_type": "code",
   "execution_count": 70,
   "id": "1228232d",
   "metadata": {},
   "outputs": [],
   "source": [
    "## 22.How do you reverse a string in Python?"
   ]
  },
  {
   "cell_type": "code",
   "execution_count": 71,
   "id": "6f055ba6",
   "metadata": {},
   "outputs": [],
   "source": [
    "n='Hello world'"
   ]
  },
  {
   "cell_type": "code",
   "execution_count": 74,
   "id": "e0e8216e",
   "metadata": {},
   "outputs": [
    {
     "data": {
      "text/plain": [
       "'dlrow olleH'"
      ]
     },
     "execution_count": 74,
     "metadata": {},
     "output_type": "execute_result"
    }
   ],
   "source": [
    "n[::-1]"
   ]
  },
  {
   "cell_type": "code",
   "execution_count": 102,
   "id": "04511929",
   "metadata": {},
   "outputs": [],
   "source": [
    "## 23.How to create dataframe from list?"
   ]
  },
  {
   "cell_type": "code",
   "execution_count": 120,
   "id": "79b667dc",
   "metadata": {},
   "outputs": [],
   "source": [
    "import pandas as pd"
   ]
  },
  {
   "cell_type": "code",
   "execution_count": 121,
   "id": "62935bdd",
   "metadata": {},
   "outputs": [],
   "source": [
    "d1={'a':[1,2,3],'b':[4,5,6],'c':[7,8,9]}"
   ]
  },
  {
   "cell_type": "code",
   "execution_count": 124,
   "id": "309a7614",
   "metadata": {},
   "outputs": [],
   "source": [
    "df1=pd.DataFrame(d1)"
   ]
  },
  {
   "cell_type": "code",
   "execution_count": 125,
   "id": "7baf2494",
   "metadata": {},
   "outputs": [
    {
     "data": {
      "text/html": [
       "<div>\n",
       "<style scoped>\n",
       "    .dataframe tbody tr th:only-of-type {\n",
       "        vertical-align: middle;\n",
       "    }\n",
       "\n",
       "    .dataframe tbody tr th {\n",
       "        vertical-align: top;\n",
       "    }\n",
       "\n",
       "    .dataframe thead th {\n",
       "        text-align: right;\n",
       "    }\n",
       "</style>\n",
       "<table border=\"1\" class=\"dataframe\">\n",
       "  <thead>\n",
       "    <tr style=\"text-align: right;\">\n",
       "      <th></th>\n",
       "      <th>a</th>\n",
       "      <th>b</th>\n",
       "      <th>c</th>\n",
       "    </tr>\n",
       "  </thead>\n",
       "  <tbody>\n",
       "    <tr>\n",
       "      <th>0</th>\n",
       "      <td>1</td>\n",
       "      <td>4</td>\n",
       "      <td>7</td>\n",
       "    </tr>\n",
       "    <tr>\n",
       "      <th>1</th>\n",
       "      <td>2</td>\n",
       "      <td>5</td>\n",
       "      <td>8</td>\n",
       "    </tr>\n",
       "    <tr>\n",
       "      <th>2</th>\n",
       "      <td>3</td>\n",
       "      <td>6</td>\n",
       "      <td>9</td>\n",
       "    </tr>\n",
       "  </tbody>\n",
       "</table>\n",
       "</div>"
      ],
      "text/plain": [
       "   a  b  c\n",
       "0  1  4  7\n",
       "1  2  5  8\n",
       "2  3  6  9"
      ]
     },
     "execution_count": 125,
     "metadata": {},
     "output_type": "execute_result"
    }
   ],
   "source": [
    "df1"
   ]
  },
  {
   "cell_type": "code",
   "execution_count": 132,
   "id": "35e53184",
   "metadata": {},
   "outputs": [
    {
     "data": {
      "text/plain": [
       "<pandas.core.indexing._LocIndexer at 0x22479d937c0>"
      ]
     },
     "execution_count": 132,
     "metadata": {},
     "output_type": "execute_result"
    }
   ],
   "source": [
    "df1.loc(0)"
   ]
  },
  {
   "cell_type": "code",
   "execution_count": null,
   "id": "1af77e41",
   "metadata": {},
   "outputs": [],
   "source": []
  },
  {
   "cell_type": "code",
   "execution_count": null,
   "id": "dc79e05e",
   "metadata": {},
   "outputs": [],
   "source": []
  }
 ],
 "metadata": {
  "kernelspec": {
   "display_name": "Python 3",
   "language": "python",
   "name": "python3"
  },
  "language_info": {
   "codemirror_mode": {
    "name": "ipython",
    "version": 3
   },
   "file_extension": ".py",
   "mimetype": "text/x-python",
   "name": "python",
   "nbconvert_exporter": "python",
   "pygments_lexer": "ipython3",
   "version": "3.8.8"
  }
 },
 "nbformat": 4,
 "nbformat_minor": 5
}
